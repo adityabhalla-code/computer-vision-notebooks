{
 "cells": [
  {
   "cell_type": "code",
   "execution_count": 1,
   "metadata": {},
   "outputs": [
    {
     "data": {
      "text/plain": [
       "'E:\\\\PGPMLAI\\\\Project 9'"
      ]
     },
     "execution_count": 1,
     "metadata": {},
     "output_type": "execute_result"
    }
   ],
   "source": [
    "# setting up the working directory \n",
    "import os\n",
    "os.chdir(\"E:\\PGPMLAI\\Project 9\")\n",
    "os.getcwd()"
   ]
  },
  {
   "cell_type": "code",
   "execution_count": null,
   "metadata": {},
   "outputs": [],
   "source": [
    "import cv2\n",
    "import glob\n",
    "# captures frame from a video\n",
    "cap = cv2.VideoCapture('video1.mp4')\n",
    "# XML file to describe the features that we want to detect in this case car \n",
    "car_cascade = cv2.CascadeClassifier('cars.xml')\n",
    "# loop runs if capturing is initialized \n",
    "while True:\n",
    "    # read frames fro a video\n",
    "    ret, frames = cap.read()\n",
    "    # to convert the gray scale \n",
    "    gray = cv2.cvtColor(frames, cv2.COLOR_BGR2GRAY)\n",
    "    # detect cars of different sizes in the imput image \n",
    "    cars = car_cascade.detectMultiScale(gray, 1.5, 5)\n",
    "    ret,frames = cap.read()#reads frames from a video\n",
    "    gray = cv2.cvtColor(frames,cv2.COLOR_BGR2GRAY)# convert to gray scale of each frames\n",
    "    cars = car_cascade.detectMultiScale(gray, 1.1, 1) #Detect cars of different sizes in the input image\n",
    "    # to draw the rectangle on each car \n",
    "    for (x,y,w,h) in cars:\n",
    "        plate = frames[y:y+h, x:x+w]\n",
    "        cv2.rectangle(frames, (x,y), (x+w,y+h),(51,51,255),2) # To draw a rectangle\n",
    "        cv2.rectangle(frames, (x,y-40), (x+w,y),(51,51,255),2)\n",
    "        cv2.putText(frames, 'Car', (x, y-10), cv2.FONT_HERSHEY_SIMPLEX, 0.5, (0, 0, 0),2)\n",
    "        plateDisplay = cv2.resize(frames, (600,400))\n",
    "        #cv2.imshow('car' , plateDisplay)  #display frames in a window\n",
    "    frames = cv2.resize(frames, (600,400))\n",
    "    cv2.imshow('Car Detection System', frames)\n",
    "    k=cv2.waitKey(33)\n",
    "    if k==13:\n",
    "    # Wait for the Enter Key to stop\n",
    "     break\n",
    "cv2.destroyAllWindows()"
   ]
  },
  {
   "cell_type": "markdown",
   "metadata": {},
   "source": [
    "# Limitation\n",
    "We can see that this approach has low precision & recall. As we are using pretrained classified config file. We can tune, train it. We can see that it is detecing traffic signs, bikes etc as cars for some of the frames.\n"
   ]
  },
  {
   "cell_type": "code",
   "execution_count": null,
   "metadata": {},
   "outputs": [],
   "source": []
  }
 ],
 "metadata": {
  "kernelspec": {
   "display_name": "Python 3",
   "language": "python",
   "name": "python3"
  },
  "language_info": {
   "codemirror_mode": {
    "name": "ipython",
    "version": 3
   },
   "file_extension": ".py",
   "mimetype": "text/x-python",
   "name": "python",
   "nbconvert_exporter": "python",
   "pygments_lexer": "ipython3",
   "version": "3.6.10"
  }
 },
 "nbformat": 4,
 "nbformat_minor": 4
}
