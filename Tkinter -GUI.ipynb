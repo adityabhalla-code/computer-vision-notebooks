{
 "cells": [
  {
   "cell_type": "code",
   "execution_count": 25,
   "metadata": {},
   "outputs": [],
   "source": [
    "# Building a GUI for Project 8 CNN '\n",
    "import tkinter as tk\n",
    "from tkinter import ttk # ttk is for an\n",
    "import pandas as pd\n",
    "import re\n",
    "import pickle\n",
    "import joblib\n",
    "import h5py\n",
    "import tensorflow as tf\n",
    "import os\n",
    "import sys\n",
    "import matplotlib.pyplot as plt\n",
    "import numpy as np\n",
    "from tensorflow.keras.models import  load_model"
   ]
  },
  {
   "cell_type": "code",
   "execution_count": 31,
   "metadata": {},
   "outputs": [],
   "source": [
    "# window/layout \n",
    "\n",
    "win = tk.Tk()\n",
    "win.title('Image Classifier GUI-Great Learning') # window title\n",
    "####################################################\n",
    "name = ttk.Label(win,text=\"step 1: File Name\")\n",
    "name.grid(row = 0, column = 0 , sticky = tk.W)\n",
    "name_var = tk.StringVar()\n",
    "name_entrybox = ttk.Entry(win, width = 16, textvariable = name_var)\n",
    "name_entrybox.grid(row=0,column=1)\n",
    "def Import_Data():\n",
    "    global pred_image\n",
    "    image_name = name_var.get()\n",
    "    image_extension = re.findall(\"\\..*\",image_name)\n",
    "    if image_extension == [\".jpg\"]:\n",
    "        pred_image= plt.imread(image_name)\n",
    "        confirm = \"JPG Image Found\"\n",
    "    elif image_extension != [\".jpg\"]:\n",
    "            confirm = \"Upload JPG Image\"\n",
    "    else :\n",
    "        confirm = \"Check Image Extension\"\n",
    "    confirm_entrybox=ttk.Entry(win,width=25)\n",
    "    confirm_entrybox.grid(row=0,column=3)\n",
    "    confirm_entrybox.insert(1,str(confirm))\n",
    "Import_Data_Button = ttk.Button(win,text=\"Import Data\",command=Import_Data)\n",
    "Import_Data_Button.grid(row=0,column=2)\n",
    "##########################################################\n",
    "img_class = ttk.Label(win,text = \"Image Classifier\")\n",
    "img_class.grid(row=1,column = 0,sticky=tk.W)\n",
    "##########################################################\n",
    "\n",
    "def train():\n",
    "    global pred_image\n",
    "    pred_image = np.asarray(pred_image)\n",
    "    pred = pred_image.reshape(-1,224,224,3)\n",
    "    model = load_model(\"best_model.hdf5\", compile = True)\n",
    "    output = model.predict(pred)\n",
    "    for i in range(17):\n",
    "        if output[0,i] == 1:\n",
    "            output_label= i\n",
    "    confirm = str(output_label) \n",
    "    confirm_entrybox=ttk.Entry(win,width=25)\n",
    "    confirm_entrybox.grid(row=2,column=3)\n",
    "    confirm_entrybox.insert(1,str(\"Predicted Label is \"+confirm))\n",
    "train_Button = ttk.Button(win,text=\"Train classifier\",command=train)\n",
    "train_Button.grid(row=2,column=0)\n",
    "\n",
    "win.mainloop()"
   ]
  },
  {
   "cell_type": "code",
   "execution_count": null,
   "metadata": {},
   "outputs": [],
   "source": []
  }
 ],
 "metadata": {
  "kernelspec": {
   "display_name": "Python 3",
   "language": "python",
   "name": "python3"
  },
  "language_info": {
   "codemirror_mode": {
    "name": "ipython",
    "version": 3
   },
   "file_extension": ".py",
   "mimetype": "text/x-python",
   "name": "python",
   "nbconvert_exporter": "python",
   "pygments_lexer": "ipython3",
   "version": "3.6.10"
  }
 },
 "nbformat": 4,
 "nbformat_minor": 4
}
